{
 "cells": [
  {
   "cell_type": "code",
   "execution_count": 9,
   "id": "a71d3ebc",
   "metadata": {},
   "outputs": [
    {
     "name": "stdout",
     "output_type": "stream",
     "text": [
      "Shipments data shape: (4000, 5)\n",
      "\n",
      "Shipments data columns: ['shipID', 'plannedShipDate', 'actualShipDate', 'partID', 'quantity']\n",
      "\n",
      "First few rows of shipments data:\n",
      "   shipID plannedShipDate actualShipDate       partID  quantity\n",
      "0   10001      2013-11-06     2013-10-04  part92b16c5         6\n",
      "1   10002      2013-10-15     2013-10-04   part66983b         2\n",
      "2   10003      2013-10-25     2013-10-07  part8e36f25         1\n",
      "3   10004      2013-10-14     2013-10-08  part30f5de0         1\n",
      "4   10005      2013-10-14     2013-10-08  part9d64d35         6\n",
      "5   10006      2013-10-14     2013-10-08  part6cd6167        15\n",
      "6   10007      2013-10-14     2013-10-08  parta4d5fd1         2\n",
      "7   10008      2013-10-14     2013-10-08  part08cadf5         1\n",
      "8   10009      2013-10-14     2013-10-08  part5cc4989        10\n",
      "9   10010      2013-10-14     2013-10-08  part912ae4c         1\n",
      "\n",
      "==================================================\n",
      "Product line data shape: (11997, 3)\n",
      "\n",
      "Product line data columns: ['partID', 'productLine', 'prodCategory']\n",
      "\n",
      "First few rows of product line data:\n",
      "        partID productLine prodCategory\n",
      "0  part00005ba      line4c      Liquids\n",
      "1  part000b57d      line61     Machines\n",
      "2  part00123bf      linec1  Marketables\n",
      "3  part0021fc9      line61     Machines\n",
      "4  part0027e86      line2f     Machines\n",
      "5  part002ed95      line4c      Liquids\n",
      "6  part0030856      lineb8     Machines\n",
      "7  part0033dfd      line49      Liquids\n",
      "8  part0037a2a      linea3  Marketables\n",
      "9  part003caee      linea3  Marketables\n"
     ]
    }
   ],
   "source": [
    "import pandas as pd\n",
    "import numpy as np\n",
    "import matplotlib.pyplot as plt\n",
    "import seaborn as sns\n",
    "from datetime import datetime, timedelta\n",
    "\n",
    "# Load the shipment data\n",
    "shipments_df = pd.read_csv(\n",
    "    \"https://raw.githubusercontent.com/flyaflya/persuasive/main/shipments.csv\", \n",
    "    parse_dates=['plannedShipDate', 'actualShipDate']\n",
    ")\n",
    "\n",
    "# Load product line data\n",
    "product_line_df = pd.read_csv(\n",
    "    \"https://raw.githubusercontent.com/flyaflya/persuasive/main/productLine.csv\"\n",
    ")\n",
    "\n",
    "# Reduce dataset size for faster processing (4,000 rows instead of 96,805 rows)\n",
    "shipments_df = shipments_df.head(4000)\n",
    "\n",
    "print(\"Shipments data shape:\", shipments_df.shape)\n",
    "print(\"\\nShipments data columns:\", shipments_df.columns.tolist())\n",
    "print(\"\\nFirst few rows of shipments data:\")\n",
    "print(shipments_df.head(10))\n",
    "\n",
    "print(\"\\n\" + \"=\"*50)\n",
    "print(\"Product line data shape:\", product_line_df.shape)\n",
    "print(\"\\nProduct line data columns:\", product_line_df.columns.tolist())\n",
    "print(\"\\nFirst few rows of product line data:\")\n",
    "print(product_line_df.head(10))"
   ]
  },
  {
   "cell_type": "code",
   "execution_count": 10,
   "id": "ae0ee5fd",
   "metadata": {},
   "outputs": [],
   "source": [
    "# This code has an error - can you spot it?\n",
    "shipments_with_lateness = (\n",
    "    shipments_df\n",
    "    .assign(\n",
    "    is_late=lambda df: df['actualShipDate'] > df['plannedShipDate'],\n",
    "    days_late=lambda df: (df['actualShipDate'] - df['plannedShipDate']).dt.days,\n",
    "    lateStatement=lambda df: np.where(df['is_late'],\n",
    "                                    \"Darn Shipment is Late\",\n",
    "                                    \"Shipment is on Time\")\n",
    ")\n",
    ")"
   ]
  },
  {
   "cell_type": "code",
   "execution_count": 11,
   "id": "087310a6",
   "metadata": {},
   "outputs": [
    {
     "name": "stdout",
     "output_type": "stream",
     "text": [
      "Found 456 late shipments out of 4000 total\n",
      "\n",
      "Late shipments sample:\n",
      "     shipID       partID plannedShipDate actualShipDate  days_late\n",
      "776   10192  part0164a70      2013-10-09     2013-10-14          5\n",
      "777   10192  part9259836      2013-10-09     2013-10-14          5\n",
      "778   10192  part4526c73      2013-10-09     2013-10-14          5\n",
      "779   10192  partbb47e81      2013-10-09     2013-10-14          5\n",
      "780   10192  part008482f      2013-10-09     2013-10-14          5\n"
     ]
    }
   ],
   "source": [
    "# Query rows for late shipments and filter to keep specific columns\n",
    "late_shipments = (\n",
    "    shipments_with_lateness\n",
    "    .query('is_late == True')  # Query rows where is_late is True\n",
    "    .filter(['shipID', 'partID', 'plannedShipDate', 'actualShipDate', 'days_late'])  # Filter to keep specific columns\n",
    ")\n",
    "\n",
    "print(f\"Found {len(late_shipments)} late shipments out of {len(shipments_with_lateness)} total\")\n",
    "print(\"\\nLate shipments sample:\")\n",
    "print(late_shipments.head())"
   ]
  },
  {
   "cell_type": "code",
   "execution_count": 12,
   "id": "80127736",
   "metadata": {},
   "outputs": [
    {
     "name": "stdout",
     "output_type": "stream",
     "text": [
      "Cleaned dataset: 4000 rows, 7 columns\n",
      "Remaining columns: ['shipID', 'plannedShipDate', 'actualShipDate', 'partID', 'is_late', 'days_late', 'lateStatement']\n"
     ]
    }
   ],
   "source": [
    "# Create a cleaner dataset by dropping unnecessary columns\n",
    "clean_shipments = (\n",
    "    shipments_with_lateness\n",
    "    .drop(columns=['quantity'])  # Drop quantity column (not needed for our analysis)\n",
    "    .dropna(subset=['plannedShipDate', 'actualShipDate'])  # Remove rows with missing dates\n",
    ")\n",
    "\n",
    "print(f\"Cleaned dataset: {len(clean_shipments)} rows, {len(clean_shipments.columns)} columns\")\n",
    "print(\"Remaining columns:\", clean_shipments.columns.tolist())"
   ]
  },
  {
   "cell_type": "code",
   "execution_count": 13,
   "id": "642669b5",
   "metadata": {},
   "outputs": [
    {
     "name": "stdout",
     "output_type": "stream",
     "text": [
      "Shipments sorted by lateness (worst first):\n",
      "   shipID       partID  days_late  is_late\n",
      "0   10956  partc63f9bc         21     True\n",
      "1   10956  part3017fa1         21     True\n",
      "2   10956  part1fedfcf         21     True\n",
      "3   10956  parte820e31         21     True\n",
      "4   10956  partb6208b5         21     True\n",
      "5   10956  partc979912         21     True\n",
      "6   10956  partc653823         21     True\n",
      "7   10956  partb722d53         21     True\n",
      "8   10956  part4875f85         21     True\n",
      "9   10956  part04ef2f7         21     True\n"
     ]
    }
   ],
   "source": [
    "# Sort by days late (worst first)\n",
    "sorted_by_lateness = (\n",
    "    clean_shipments\n",
    "    .sort_values('days_late', ascending=False)  # Sort by days_late, highest first\n",
    "    .reset_index(drop=True)  # Reset index to be sequential\n",
    ")\n",
    "\n",
    "print(\"Shipments sorted by lateness (worst first):\")\n",
    "print(sorted_by_lateness[['shipID', 'partID', 'days_late', 'is_late']].head(10))"
   ]
  },
  {
   "cell_type": "code",
   "execution_count": 14,
   "id": "847e5473",
   "metadata": {},
   "outputs": [
    {
     "name": "stdout",
     "output_type": "stream",
     "text": [
      "Overall Service Level Metrics:\n",
      "        is_late  days_late\n",
      "count  4000.000        NaN\n",
      "sum     456.000        NaN\n",
      "mean      0.114     -0.974\n",
      "max         NaN     21.000\n",
      "\n",
      "On-time delivery rate: 88.6%\n"
     ]
    }
   ],
   "source": [
    "# Calculate overall service level metrics\n",
    "service_metrics = (\n",
    "    clean_shipments\n",
    "    .agg({\n",
    "        'is_late': ['count', 'sum', 'mean'],  # Count total, count late, calculate percentage\n",
    "        'days_late': ['mean', 'max']  # Average and maximum days late\n",
    "    })\n",
    "    .round(3)\n",
    ")\n",
    "\n",
    "print(\"Overall Service Level Metrics:\")\n",
    "print(service_metrics)\n",
    "\n",
    "# Calculate percentage on-time directly from the data\n",
    "on_time_rate = (1 - clean_shipments['is_late'].mean()) * 100\n",
    "print(f\"\\nOn-time delivery rate: {on_time_rate:.1f}%\")"
   ]
  },
  {
   "cell_type": "code",
   "execution_count": 15,
   "id": "00c6ba54",
   "metadata": {},
   "outputs": [
    {
     "name": "stdout",
     "output_type": "stream",
     "text": [
      "\n",
      "Product categories available:\n",
      "prodCategory\n",
      "Marketables    1850\n",
      "Machines        846\n",
      "SpareParts      767\n",
      "Liquids         537\n",
      "Name: count, dtype: int64\n"
     ]
    }
   ],
   "source": [
    "# Merge shipment data with product line data\n",
    "shipments_with_category = (\n",
    "    clean_shipments\n",
    "    .merge(product_line_df, on='partID', how='left')  # Left join to keep all shipments\n",
    "    .assign(\n",
    "        category_late=lambda df: df['is_late'] & df['prodCategory'].notna()  # Only count as late if we have category info\n",
    "    )\n",
    ")\n",
    "\n",
    "print(\"\\nProduct categories available:\")\n",
    "print(shipments_with_category['prodCategory'].value_counts())"
   ]
  },
  {
   "cell_type": "code",
   "execution_count": 16,
   "id": "f44fe7b6",
   "metadata": {},
   "outputs": [
    {
     "name": "stdout",
     "output_type": "stream",
     "text": [
      "Service Level by Product Category:\n",
      "             is_late                   days_late    \n",
      "                 any count  sum   mean      mean max\n",
      "prodCategory                                        \n",
      "Liquids         True   537   22  0.041    -0.950  19\n",
      "Machines        True   846  152  0.180    -1.336  21\n",
      "Marketables     True  1850  145  0.078    -0.804  21\n",
      "SpareParts      True   767  137  0.179    -1.003  21\n"
     ]
    }
   ],
   "source": [
    "# Analyze service levels by product category\n",
    "service_by_category = (\n",
    "    shipments_with_category\n",
    "    .groupby('prodCategory')  # Split by product category\n",
    "    .agg({\n",
    "        'is_late': ['any', 'count', 'sum', 'mean'],  # Count, late count, percentage late\n",
    "        'days_late': ['mean', 'max']  # Average and max days late\n",
    "    })\n",
    "    .round(3)\n",
    ")\n",
    "\n",
    "print(\"Service Level by Product Category:\")\n",
    "print(service_by_category)"
   ]
  },
  {
   "cell_type": "code",
   "execution_count": 17,
   "id": "0f2ee132",
   "metadata": {},
   "outputs": [
    {
     "name": "stdout",
     "output_type": "stream",
     "text": [
      "Comprehensive analysis - shipments with multiple categories:\n",
      "Shipments with multiple categories: 232\n",
      "Total unique shipments: 997\n",
      "Percentage with multiple categories: 23.3%\n"
     ]
    }
   ],
   "source": [
    "# Create a comprehensive analysis dataset\n",
    "comprehensive_analysis = (\n",
    "    shipments_with_category\n",
    "    .groupby(['shipID', 'prodCategory'])  # Group by shipment and category\n",
    "    .agg({\n",
    "        'is_late': 'any',  # True if any item in this shipment/category is late\n",
    "        'days_late': 'max'  # Maximum days late for this shipment/category\n",
    "    })\n",
    "    .reset_index()\n",
    "    .assign(\n",
    "        has_multiple_categories=lambda df: df.groupby('shipID')['prodCategory'].transform('nunique') > 1\n",
    "    )\n",
    ")\n",
    "\n",
    "print(\"Comprehensive analysis - shipments with multiple categories:\")\n",
    "multi_category_shipments = comprehensive_analysis[comprehensive_analysis['has_multiple_categories']]\n",
    "print(f\"Shipments with multiple categories: {multi_category_shipments['shipID'].nunique()}\")\n",
    "print(f\"Total unique shipments: {comprehensive_analysis['shipID'].nunique()}\")\n",
    "print(f\"Percentage with multiple categories: {multi_category_shipments['shipID'].nunique() / comprehensive_analysis['shipID'].nunique() * 100:.1f}%\")"
   ]
  },
  {
   "cell_type": "code",
   "execution_count": 19,
   "id": "8881d837",
   "metadata": {},
   "outputs": [
    {
     "data": {
      "image/png": "[encoded data removed]",
      "text/plain": [
       "<Figure size 1000x600 with 1 Axes>"
      ]
     },
     "metadata": {},
     "output_type": "display_data"
    }
   ],
   "source": [
    "import matplotlib.pyplot as plt\n",
    "\n",
    "# Sample data: replace with your actual DataFrame\n",
    "# Assuming service_by_category is a MultiIndex DataFrame from your groupby/agg\n",
    "# and 'is_late', 'mean' gives the % late per category\n",
    "service_level = service_by_category['is_late']['mean'] * 100  # Convert to percentage\n",
    "\n",
    "# Sort for better visual impact\n",
    "service_level = service_level.sort_values(ascending=False)\n",
    "\n",
    "# Plot\n",
    "fig, ax = plt.subplots(figsize=(10, 6))\n",
    "bars = ax.bar(service_level.index, service_level.values, color='steelblue', edgecolor='black')\n",
    "\n",
    "# Add value labels\n",
    "for bar in bars:\n",
    "    height = bar.get_height()\n",
    "    ax.text(bar.get_x() + bar.get_width()/2, height + 1, f'{height:.1f}%', ha='center', va='bottom', fontsize=10)\n",
    "\n",
    "# Styling\n",
    "ax.set_title('Service Level by Product Category', fontsize=16, fontweight='bold')\n",
    "ax.set_ylabel('% Late Shipments', fontsize=12)\n",
    "ax.set_xlabel('Product Category', fontsize=12)\n",
    "ax.set_ylim(0, max(service_level.values) * 1.2)\n",
    "ax.grid(axis='y', linestyle='--', alpha=0.7)\n",
    "\n",
    "plt.xticks(rotation=45, ha='right')\n",
    "plt.tight_layout()\n",
    "plt.show()\n"
   ]
  }
 ],
 "metadata": {
  "kernelspec": {
   "display_name": "Python 3",
   "language": "python",
   "name": "python3"
  },
  "language_info": {
   "codemirror_mode": {
    "name": "ipython",
    "version": 3
   },
   "file_extension": ".py",
   "mimetype": "text/x-python",
   "name": "python",
   "nbconvert_exporter": "python",
   "pygments_lexer": "ipython3",
   "version": "3.12.10"
  }
 },
 "nbformat": 4,
 "nbformat_minor": 5
}
